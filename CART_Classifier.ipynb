{
  "nbformat": 4,
  "nbformat_minor": 0,
  "metadata": {
    "colab": {
      "provenance": []
    },
    "kernelspec": {
      "name": "python3",
      "display_name": "Python 3"
    },
    "language_info": {
      "name": "python"
    }
  },
  "cells": [
    {
      "cell_type": "code",
      "execution_count": 14,
      "metadata": {
        "id": "oP9dmiyxYKtn",
        "colab": {
          "base_uri": "https://localhost:8080/",
          "height": 342
        },
        "outputId": "43712cb4-d722-4f7c-897d-31558800bcf9"
      },
      "outputs": [
        {
          "output_type": "display_data",
          "data": {
            "text/plain": [
              "<IPython.core.display.HTML object>"
            ],
            "text/html": [
              "\n",
              "     <input type=\"file\" id=\"files-310f2631-4c89-4167-90ab-2e68e0aea4d5\" name=\"files[]\" multiple disabled\n",
              "        style=\"border:none\" />\n",
              "     <output id=\"result-310f2631-4c89-4167-90ab-2e68e0aea4d5\">\n",
              "      Upload widget is only available when the cell has been executed in the\n",
              "      current browser session. Please rerun this cell to enable.\n",
              "      </output>\n",
              "      <script>// Copyright 2017 Google LLC\n",
              "//\n",
              "// Licensed under the Apache License, Version 2.0 (the \"License\");\n",
              "// you may not use this file except in compliance with the License.\n",
              "// You may obtain a copy of the License at\n",
              "//\n",
              "//      http://www.apache.org/licenses/LICENSE-2.0\n",
              "//\n",
              "// Unless required by applicable law or agreed to in writing, software\n",
              "// distributed under the License is distributed on an \"AS IS\" BASIS,\n",
              "// WITHOUT WARRANTIES OR CONDITIONS OF ANY KIND, either express or implied.\n",
              "// See the License for the specific language governing permissions and\n",
              "// limitations under the License.\n",
              "\n",
              "/**\n",
              " * @fileoverview Helpers for google.colab Python module.\n",
              " */\n",
              "(function(scope) {\n",
              "function span(text, styleAttributes = {}) {\n",
              "  const element = document.createElement('span');\n",
              "  element.textContent = text;\n",
              "  for (const key of Object.keys(styleAttributes)) {\n",
              "    element.style[key] = styleAttributes[key];\n",
              "  }\n",
              "  return element;\n",
              "}\n",
              "\n",
              "// Max number of bytes which will be uploaded at a time.\n",
              "const MAX_PAYLOAD_SIZE = 100 * 1024;\n",
              "\n",
              "function _uploadFiles(inputId, outputId) {\n",
              "  const steps = uploadFilesStep(inputId, outputId);\n",
              "  const outputElement = document.getElementById(outputId);\n",
              "  // Cache steps on the outputElement to make it available for the next call\n",
              "  // to uploadFilesContinue from Python.\n",
              "  outputElement.steps = steps;\n",
              "\n",
              "  return _uploadFilesContinue(outputId);\n",
              "}\n",
              "\n",
              "// This is roughly an async generator (not supported in the browser yet),\n",
              "// where there are multiple asynchronous steps and the Python side is going\n",
              "// to poll for completion of each step.\n",
              "// This uses a Promise to block the python side on completion of each step,\n",
              "// then passes the result of the previous step as the input to the next step.\n",
              "function _uploadFilesContinue(outputId) {\n",
              "  const outputElement = document.getElementById(outputId);\n",
              "  const steps = outputElement.steps;\n",
              "\n",
              "  const next = steps.next(outputElement.lastPromiseValue);\n",
              "  return Promise.resolve(next.value.promise).then((value) => {\n",
              "    // Cache the last promise value to make it available to the next\n",
              "    // step of the generator.\n",
              "    outputElement.lastPromiseValue = value;\n",
              "    return next.value.response;\n",
              "  });\n",
              "}\n",
              "\n",
              "/**\n",
              " * Generator function which is called between each async step of the upload\n",
              " * process.\n",
              " * @param {string} inputId Element ID of the input file picker element.\n",
              " * @param {string} outputId Element ID of the output display.\n",
              " * @return {!Iterable<!Object>} Iterable of next steps.\n",
              " */\n",
              "function* uploadFilesStep(inputId, outputId) {\n",
              "  const inputElement = document.getElementById(inputId);\n",
              "  inputElement.disabled = false;\n",
              "\n",
              "  const outputElement = document.getElementById(outputId);\n",
              "  outputElement.innerHTML = '';\n",
              "\n",
              "  const pickedPromise = new Promise((resolve) => {\n",
              "    inputElement.addEventListener('change', (e) => {\n",
              "      resolve(e.target.files);\n",
              "    });\n",
              "  });\n",
              "\n",
              "  const cancel = document.createElement('button');\n",
              "  inputElement.parentElement.appendChild(cancel);\n",
              "  cancel.textContent = 'Cancel upload';\n",
              "  const cancelPromise = new Promise((resolve) => {\n",
              "    cancel.onclick = () => {\n",
              "      resolve(null);\n",
              "    };\n",
              "  });\n",
              "\n",
              "  // Wait for the user to pick the files.\n",
              "  const files = yield {\n",
              "    promise: Promise.race([pickedPromise, cancelPromise]),\n",
              "    response: {\n",
              "      action: 'starting',\n",
              "    }\n",
              "  };\n",
              "\n",
              "  cancel.remove();\n",
              "\n",
              "  // Disable the input element since further picks are not allowed.\n",
              "  inputElement.disabled = true;\n",
              "\n",
              "  if (!files) {\n",
              "    return {\n",
              "      response: {\n",
              "        action: 'complete',\n",
              "      }\n",
              "    };\n",
              "  }\n",
              "\n",
              "  for (const file of files) {\n",
              "    const li = document.createElement('li');\n",
              "    li.append(span(file.name, {fontWeight: 'bold'}));\n",
              "    li.append(span(\n",
              "        `(${file.type || 'n/a'}) - ${file.size} bytes, ` +\n",
              "        `last modified: ${\n",
              "            file.lastModifiedDate ? file.lastModifiedDate.toLocaleDateString() :\n",
              "                                    'n/a'} - `));\n",
              "    const percent = span('0% done');\n",
              "    li.appendChild(percent);\n",
              "\n",
              "    outputElement.appendChild(li);\n",
              "\n",
              "    const fileDataPromise = new Promise((resolve) => {\n",
              "      const reader = new FileReader();\n",
              "      reader.onload = (e) => {\n",
              "        resolve(e.target.result);\n",
              "      };\n",
              "      reader.readAsArrayBuffer(file);\n",
              "    });\n",
              "    // Wait for the data to be ready.\n",
              "    let fileData = yield {\n",
              "      promise: fileDataPromise,\n",
              "      response: {\n",
              "        action: 'continue',\n",
              "      }\n",
              "    };\n",
              "\n",
              "    // Use a chunked sending to avoid message size limits. See b/62115660.\n",
              "    let position = 0;\n",
              "    do {\n",
              "      const length = Math.min(fileData.byteLength - position, MAX_PAYLOAD_SIZE);\n",
              "      const chunk = new Uint8Array(fileData, position, length);\n",
              "      position += length;\n",
              "\n",
              "      const base64 = btoa(String.fromCharCode.apply(null, chunk));\n",
              "      yield {\n",
              "        response: {\n",
              "          action: 'append',\n",
              "          file: file.name,\n",
              "          data: base64,\n",
              "        },\n",
              "      };\n",
              "\n",
              "      let percentDone = fileData.byteLength === 0 ?\n",
              "          100 :\n",
              "          Math.round((position / fileData.byteLength) * 100);\n",
              "      percent.textContent = `${percentDone}% done`;\n",
              "\n",
              "    } while (position < fileData.byteLength);\n",
              "  }\n",
              "\n",
              "  // All done.\n",
              "  yield {\n",
              "    response: {\n",
              "      action: 'complete',\n",
              "    }\n",
              "  };\n",
              "}\n",
              "\n",
              "scope.google = scope.google || {};\n",
              "scope.google.colab = scope.google.colab || {};\n",
              "scope.google.colab._files = {\n",
              "  _uploadFiles,\n",
              "  _uploadFilesContinue,\n",
              "};\n",
              "})(self);\n",
              "</script> "
            ]
          },
          "metadata": {}
        },
        {
          "output_type": "stream",
          "name": "stdout",
          "text": [
            "Saving gini_index_data.csv to gini_index_data (8).csv\n"
          ]
        },
        {
          "output_type": "execute_result",
          "data": {
            "text/plain": [
              "<bound method NDFrame.head of      outlook temperature humidity    wind Decision\n",
              "0      sunny         hot     high    weak       No\n",
              "1      sunny         hot     high  strong       No\n",
              "2   overcast         hot     high    weak      Yes\n",
              "3   rainfall        mild     high    weak      Yes\n",
              "4   rainfall        cool   normal    weak      Yes\n",
              "5   rainfall        cool   normal  strong       No\n",
              "6   overcast        cool   normal  strong      Yes\n",
              "7      sunny        mild     high    weak       No\n",
              "8      sunny        cool   normal    weak      Yes\n",
              "9   rainfall        mild   normal    weak      Yes\n",
              "10     sunny        mild   normal  strong      Yes\n",
              "11  overcast        mild     high  strong      Yes\n",
              "12  overcast         hot   normal    weak      Yes\n",
              "13  rainfall        mild     high  strong       No>"
            ]
          },
          "metadata": {},
          "execution_count": 14
        }
      ],
      "source": [
        "import numpy as np\n",
        "import pandas as pd\n",
        "from google.colab import files\n",
        "from sklearn.model_selection import train_test_split\n",
        "from sklearn.preprocessing import StandardScaler\n",
        "\n",
        "data_to_load = files.upload()\n",
        "\n",
        "df = pd.read_csv('gini_index_data.csv')\n",
        "\n",
        "df.head"
      ]
    },
    {
      "cell_type": "code",
      "source": [
        "from sklearn.preprocessing import LabelEncoder\n",
        "le = LabelEncoder()\n",
        "df['outlook'] = le.fit_transform(df['outlook'])\n",
        "df['temperature'] = le.fit_transform(df['temperature'])\n",
        "df['humidity'] = le.fit_transform(df['humidity'])\n",
        "df['wind'] = le.fit_transform(df['wind'])\n",
        "df['Decision'] = le.fit_transform(df['Decision'])\n",
        "\n",
        "X = df[['outlook','temperature','humidity','wind']]\n",
        "y = df['Decision']\n",
        "df.head"
      ],
      "metadata": {
        "colab": {
          "base_uri": "https://localhost:8080/"
        },
        "id": "ulf6JJdqdv9v",
        "outputId": "6f125e09-a3ac-4957-b9fc-0750613a149c"
      },
      "execution_count": 16,
      "outputs": [
        {
          "output_type": "execute_result",
          "data": {
            "text/plain": [
              "<bound method NDFrame.head of     outlook  temperature  humidity  wind  Decision\n",
              "0         2            1         0     1         0\n",
              "1         2            1         0     0         0\n",
              "2         0            1         0     1         1\n",
              "3         1            2         0     1         1\n",
              "4         1            0         1     1         1\n",
              "5         1            0         1     0         0\n",
              "6         0            0         1     0         1\n",
              "7         2            2         0     1         0\n",
              "8         2            0         1     1         1\n",
              "9         1            2         1     1         1\n",
              "10        2            2         1     0         1\n",
              "11        0            2         0     0         1\n",
              "12        0            1         1     1         1\n",
              "13        1            2         0     0         0>"
            ]
          },
          "metadata": {},
          "execution_count": 16
        }
      ]
    },
    {
      "cell_type": "code",
      "source": [
        "from sklearn.model_selection import train_test_split\n",
        "from sklearn.preprocessing import StandardScaler\n",
        "x_train,x_test,y_train,y_test = train_test_split(X,y,test_size = 0.3)\n",
        "sc = StandardScaler()\n",
        "x_train = sc.fit_transform(x_train)\n",
        "x_test = sc.transform(x_test)\n",
        "\n",
        "x_train\n",
        "\n"
      ],
      "metadata": {
        "colab": {
          "base_uri": "https://localhost:8080/"
        },
        "id": "6zOmqXCqea5f",
        "outputId": "46bd64c9-490d-455c-e928-e1521e6871df"
      },
      "execution_count": 19,
      "outputs": [
        {
          "output_type": "execute_result",
          "data": {
            "text/plain": [
              "array([[ 0.98994949,  0.81649658, -0.89442719,  0.89442719],\n",
              "       [-1.55563492,  0.81649658, -0.89442719, -1.11803399],\n",
              "       [ 0.98994949,  0.81649658,  1.11803399, -1.11803399],\n",
              "       [ 0.98994949, -1.63299316,  1.11803399,  0.89442719],\n",
              "       [-1.55563492, -0.40824829,  1.11803399,  0.89442719],\n",
              "       [-0.28284271,  0.81649658, -0.89442719,  0.89442719],\n",
              "       [-0.28284271, -1.63299316,  1.11803399, -1.11803399],\n",
              "       [ 0.98994949, -0.40824829, -0.89442719,  0.89442719],\n",
              "       [-0.28284271,  0.81649658, -0.89442719, -1.11803399]])"
            ]
          },
          "metadata": {},
          "execution_count": 19
        }
      ]
    },
    {
      "cell_type": "code",
      "source": [
        "from sklearn.tree import DecisionTreeClassifier\n",
        "from sklearn.tree import export_graphviz\n",
        "\n",
        "tree = DecisionTreeClassifier(criterion=\"gini\")\n",
        "tree.fit(x_train,y_train)\n",
        "y_pred = tree.predict(x_test)\n",
        "y_pred"
      ],
      "metadata": {
        "colab": {
          "base_uri": "https://localhost:8080/"
        },
        "id": "SVjvdRTckRO_",
        "outputId": "635dcf03-b675-4cb9-cb06-b3a7f655c0df"
      },
      "execution_count": 21,
      "outputs": [
        {
          "output_type": "execute_result",
          "data": {
            "text/plain": [
              "array([0, 0, 1, 0, 1])"
            ]
          },
          "metadata": {},
          "execution_count": 21
        }
      ]
    },
    {
      "cell_type": "code",
      "source": [
        "import graphviz\n",
        "gr_data = export_graphviz(tree,out_file=None)\n",
        "graph = graphviz.Source(gr_data)\n",
        "graph.render(\"iris\")\n",
        "gr_data = export_graphviz(tree, out_file=None, feature_names=['outlook','temperature','humidity','wind'], class_names=['no','yes'],filled=True, rounded=True,special_characters=True)\n",
        "graph = graphviz.Source(gr_data)\n",
        "graph"
      ],
      "metadata": {
        "colab": {
          "base_uri": "https://localhost:8080/",
          "height": 757
        },
        "id": "fl2dAIYYlKvI",
        "outputId": "5e1ba90d-befc-4e3c-d71d-bbfd970d3d28"
      },
      "execution_count": 22,
      "outputs": [
        {
          "output_type": "execute_result",
          "data": {
            "image/svg+xml": "<?xml version=\"1.0\" encoding=\"UTF-8\" standalone=\"no\"?>\n<!DOCTYPE svg PUBLIC \"-//W3C//DTD SVG 1.1//EN\"\n \"http://www.w3.org/Graphics/SVG/1.1/DTD/svg11.dtd\">\n<!-- Generated by graphviz version 2.43.0 (0)\n -->\n<!-- Title: Tree Pages: 1 -->\n<svg width=\"507pt\" height=\"552pt\"\n viewBox=\"0.00 0.00 507.00 552.00\" xmlns=\"http://www.w3.org/2000/svg\" xmlns:xlink=\"http://www.w3.org/1999/xlink\">\n<g id=\"graph0\" class=\"graph\" transform=\"scale(1 1) rotate(0) translate(4 548)\">\n<title>Tree</title>\n<polygon fill=\"white\" stroke=\"transparent\" points=\"-4,4 -4,-548 503,-548 503,4 -4,4\"/>\n<!-- 0 -->\n<g id=\"node1\" class=\"node\">\n<title>0</title>\n<path fill=\"#d7ebfa\" stroke=\"black\" d=\"M260,-544C260,-544 171,-544 171,-544 165,-544 159,-538 159,-532 159,-532 159,-473 159,-473 159,-467 165,-461 171,-461 171,-461 260,-461 260,-461 266,-461 272,-467 272,-473 272,-473 272,-532 272,-532 272,-538 266,-544 260,-544\"/>\n<text text-anchor=\"start\" x=\"167\" y=\"-528.8\" font-family=\"Helvetica,sans-Serif\" font-size=\"14.00\">outlook ≤ &#45;0.919</text>\n<text text-anchor=\"start\" x=\"180\" y=\"-513.8\" font-family=\"Helvetica,sans-Serif\" font-size=\"14.00\">gini = 0.494</text>\n<text text-anchor=\"start\" x=\"178\" y=\"-498.8\" font-family=\"Helvetica,sans-Serif\" font-size=\"14.00\">samples = 9</text>\n<text text-anchor=\"start\" x=\"176\" y=\"-483.8\" font-family=\"Helvetica,sans-Serif\" font-size=\"14.00\">value = [4, 5]</text>\n<text text-anchor=\"start\" x=\"181.5\" y=\"-468.8\" font-family=\"Helvetica,sans-Serif\" font-size=\"14.00\">class = yes</text>\n</g>\n<!-- 1 -->\n<g id=\"node2\" class=\"node\">\n<title>1</title>\n<path fill=\"#399de5\" stroke=\"black\" d=\"M189,-417.5C189,-417.5 118,-417.5 118,-417.5 112,-417.5 106,-411.5 106,-405.5 106,-405.5 106,-361.5 106,-361.5 106,-355.5 112,-349.5 118,-349.5 118,-349.5 189,-349.5 189,-349.5 195,-349.5 201,-355.5 201,-361.5 201,-361.5 201,-405.5 201,-405.5 201,-411.5 195,-417.5 189,-417.5\"/>\n<text text-anchor=\"start\" x=\"125.5\" y=\"-402.3\" font-family=\"Helvetica,sans-Serif\" font-size=\"14.00\">gini = 0.0</text>\n<text text-anchor=\"start\" x=\"116\" y=\"-387.3\" font-family=\"Helvetica,sans-Serif\" font-size=\"14.00\">samples = 2</text>\n<text text-anchor=\"start\" x=\"114\" y=\"-372.3\" font-family=\"Helvetica,sans-Serif\" font-size=\"14.00\">value = [0, 2]</text>\n<text text-anchor=\"start\" x=\"119.5\" y=\"-357.3\" font-family=\"Helvetica,sans-Serif\" font-size=\"14.00\">class = yes</text>\n</g>\n<!-- 0&#45;&gt;1 -->\n<g id=\"edge1\" class=\"edge\">\n<title>0&#45;&gt;1</title>\n<path fill=\"none\" stroke=\"black\" d=\"M193.99,-460.91C188.14,-449.87 181.8,-437.9 175.9,-426.77\"/>\n<polygon fill=\"black\" stroke=\"black\" points=\"178.85,-424.86 171.08,-417.67 172.67,-428.14 178.85,-424.86\"/>\n<text text-anchor=\"middle\" x=\"163.73\" y=\"-437.86\" font-family=\"Helvetica,sans-Serif\" font-size=\"14.00\">True</text>\n</g>\n<!-- 2 -->\n<g id=\"node3\" class=\"node\">\n<title>2</title>\n<path fill=\"#f8e0ce\" stroke=\"black\" d=\"M323.5,-425C323.5,-425 231.5,-425 231.5,-425 225.5,-425 219.5,-419 219.5,-413 219.5,-413 219.5,-354 219.5,-354 219.5,-348 225.5,-342 231.5,-342 231.5,-342 323.5,-342 323.5,-342 329.5,-342 335.5,-348 335.5,-354 335.5,-354 335.5,-413 335.5,-413 335.5,-419 329.5,-425 323.5,-425\"/>\n<text text-anchor=\"start\" x=\"227.5\" y=\"-409.8\" font-family=\"Helvetica,sans-Serif\" font-size=\"14.00\">humidity ≤ 0.112</text>\n<text text-anchor=\"start\" x=\"245.5\" y=\"-394.8\" font-family=\"Helvetica,sans-Serif\" font-size=\"14.00\">gini = 0.49</text>\n<text text-anchor=\"start\" x=\"240\" y=\"-379.8\" font-family=\"Helvetica,sans-Serif\" font-size=\"14.00\">samples = 7</text>\n<text text-anchor=\"start\" x=\"238\" y=\"-364.8\" font-family=\"Helvetica,sans-Serif\" font-size=\"14.00\">value = [4, 3]</text>\n<text text-anchor=\"start\" x=\"246.5\" y=\"-349.8\" font-family=\"Helvetica,sans-Serif\" font-size=\"14.00\">class = no</text>\n</g>\n<!-- 0&#45;&gt;2 -->\n<g id=\"edge2\" class=\"edge\">\n<title>0&#45;&gt;2</title>\n<path fill=\"none\" stroke=\"black\" d=\"M237.01,-460.91C241.63,-452.2 246.55,-442.9 251.33,-433.89\"/>\n<polygon fill=\"black\" stroke=\"black\" points=\"254.44,-435.5 256.03,-425.02 248.25,-432.22 254.44,-435.5\"/>\n<text text-anchor=\"middle\" x=\"263.37\" y=\"-445.22\" font-family=\"Helvetica,sans-Serif\" font-size=\"14.00\">False</text>\n</g>\n<!-- 3 -->\n<g id=\"node4\" class=\"node\">\n<title>3</title>\n<path fill=\"#eeab7b\" stroke=\"black\" d=\"M257,-306C257,-306 172,-306 172,-306 166,-306 160,-300 160,-294 160,-294 160,-235 160,-235 160,-229 166,-223 172,-223 172,-223 257,-223 257,-223 263,-223 269,-229 269,-235 269,-235 269,-294 269,-294 269,-300 263,-306 257,-306\"/>\n<text text-anchor=\"start\" x=\"168\" y=\"-290.8\" font-family=\"Helvetica,sans-Serif\" font-size=\"14.00\">outlook ≤ 0.354</text>\n<text text-anchor=\"start\" x=\"179\" y=\"-275.8\" font-family=\"Helvetica,sans-Serif\" font-size=\"14.00\">gini = 0.375</text>\n<text text-anchor=\"start\" x=\"177\" y=\"-260.8\" font-family=\"Helvetica,sans-Serif\" font-size=\"14.00\">samples = 4</text>\n<text text-anchor=\"start\" x=\"175\" y=\"-245.8\" font-family=\"Helvetica,sans-Serif\" font-size=\"14.00\">value = [3, 1]</text>\n<text text-anchor=\"start\" x=\"183.5\" y=\"-230.8\" font-family=\"Helvetica,sans-Serif\" font-size=\"14.00\">class = no</text>\n</g>\n<!-- 2&#45;&gt;3 -->\n<g id=\"edge3\" class=\"edge\">\n<title>2&#45;&gt;3</title>\n<path fill=\"none\" stroke=\"black\" d=\"M255.64,-341.91C250.95,-333.2 245.94,-323.9 241.1,-314.89\"/>\n<polygon fill=\"black\" stroke=\"black\" points=\"244.14,-313.17 236.32,-306.02 237.98,-316.48 244.14,-313.17\"/>\n</g>\n<!-- 8 -->\n<g id=\"node9\" class=\"node\">\n<title>8</title>\n<path fill=\"#9ccef2\" stroke=\"black\" d=\"M384,-306C384,-306 299,-306 299,-306 293,-306 287,-300 287,-294 287,-294 287,-235 287,-235 287,-229 293,-223 299,-223 299,-223 384,-223 384,-223 390,-223 396,-229 396,-235 396,-235 396,-294 396,-294 396,-300 390,-306 384,-306\"/>\n<text text-anchor=\"start\" x=\"295\" y=\"-290.8\" font-family=\"Helvetica,sans-Serif\" font-size=\"14.00\">outlook ≤ 0.354</text>\n<text text-anchor=\"start\" x=\"306\" y=\"-275.8\" font-family=\"Helvetica,sans-Serif\" font-size=\"14.00\">gini = 0.444</text>\n<text text-anchor=\"start\" x=\"304\" y=\"-260.8\" font-family=\"Helvetica,sans-Serif\" font-size=\"14.00\">samples = 3</text>\n<text text-anchor=\"start\" x=\"302\" y=\"-245.8\" font-family=\"Helvetica,sans-Serif\" font-size=\"14.00\">value = [1, 2]</text>\n<text text-anchor=\"start\" x=\"307.5\" y=\"-230.8\" font-family=\"Helvetica,sans-Serif\" font-size=\"14.00\">class = yes</text>\n</g>\n<!-- 2&#45;&gt;8 -->\n<g id=\"edge8\" class=\"edge\">\n<title>2&#45;&gt;8</title>\n<path fill=\"none\" stroke=\"black\" d=\"M299.7,-341.91C304.47,-333.2 309.56,-323.9 314.48,-314.89\"/>\n<polygon fill=\"black\" stroke=\"black\" points=\"317.61,-316.47 319.33,-306.02 311.47,-313.11 317.61,-316.47\"/>\n</g>\n<!-- 4 -->\n<g id=\"node5\" class=\"node\">\n<title>4</title>\n<path fill=\"#ffffff\" stroke=\"black\" d=\"M140.5,-187C140.5,-187 66.5,-187 66.5,-187 60.5,-187 54.5,-181 54.5,-175 54.5,-175 54.5,-116 54.5,-116 54.5,-110 60.5,-104 66.5,-104 66.5,-104 140.5,-104 140.5,-104 146.5,-104 152.5,-110 152.5,-116 152.5,-116 152.5,-175 152.5,-175 152.5,-181 146.5,-187 140.5,-187\"/>\n<text text-anchor=\"start\" x=\"62.5\" y=\"-171.8\" font-family=\"Helvetica,sans-Serif\" font-size=\"14.00\">wind ≤ &#45;0.112</text>\n<text text-anchor=\"start\" x=\"75.5\" y=\"-156.8\" font-family=\"Helvetica,sans-Serif\" font-size=\"14.00\">gini = 0.5</text>\n<text text-anchor=\"start\" x=\"66\" y=\"-141.8\" font-family=\"Helvetica,sans-Serif\" font-size=\"14.00\">samples = 2</text>\n<text text-anchor=\"start\" x=\"64\" y=\"-126.8\" font-family=\"Helvetica,sans-Serif\" font-size=\"14.00\">value = [1, 1]</text>\n<text text-anchor=\"start\" x=\"72.5\" y=\"-111.8\" font-family=\"Helvetica,sans-Serif\" font-size=\"14.00\">class = no</text>\n</g>\n<!-- 3&#45;&gt;4 -->\n<g id=\"edge4\" class=\"edge\">\n<title>3&#45;&gt;4</title>\n<path fill=\"none\" stroke=\"black\" d=\"M175.99,-222.91C167.29,-213.74 157.98,-203.93 149.03,-194.49\"/>\n<polygon fill=\"black\" stroke=\"black\" points=\"151.36,-191.87 141.94,-187.02 146.29,-196.68 151.36,-191.87\"/>\n</g>\n<!-- 7 -->\n<g id=\"node8\" class=\"node\">\n<title>7</title>\n<path fill=\"#e58139\" stroke=\"black\" d=\"M254,-179.5C254,-179.5 183,-179.5 183,-179.5 177,-179.5 171,-173.5 171,-167.5 171,-167.5 171,-123.5 171,-123.5 171,-117.5 177,-111.5 183,-111.5 183,-111.5 254,-111.5 254,-111.5 260,-111.5 266,-117.5 266,-123.5 266,-123.5 266,-167.5 266,-167.5 266,-173.5 260,-179.5 254,-179.5\"/>\n<text text-anchor=\"start\" x=\"190.5\" y=\"-164.3\" font-family=\"Helvetica,sans-Serif\" font-size=\"14.00\">gini = 0.0</text>\n<text text-anchor=\"start\" x=\"181\" y=\"-149.3\" font-family=\"Helvetica,sans-Serif\" font-size=\"14.00\">samples = 2</text>\n<text text-anchor=\"start\" x=\"179\" y=\"-134.3\" font-family=\"Helvetica,sans-Serif\" font-size=\"14.00\">value = [2, 0]</text>\n<text text-anchor=\"start\" x=\"187.5\" y=\"-119.3\" font-family=\"Helvetica,sans-Serif\" font-size=\"14.00\">class = no</text>\n</g>\n<!-- 3&#45;&gt;7 -->\n<g id=\"edge7\" class=\"edge\">\n<title>3&#45;&gt;7</title>\n<path fill=\"none\" stroke=\"black\" d=\"M215.89,-222.91C216.25,-212.2 216.65,-200.62 217.02,-189.78\"/>\n<polygon fill=\"black\" stroke=\"black\" points=\"220.52,-189.78 217.37,-179.67 213.53,-189.54 220.52,-189.78\"/>\n</g>\n<!-- 5 -->\n<g id=\"node6\" class=\"node\">\n<title>5</title>\n<path fill=\"#e58139\" stroke=\"black\" d=\"M83,-68C83,-68 12,-68 12,-68 6,-68 0,-62 0,-56 0,-56 0,-12 0,-12 0,-6 6,0 12,0 12,0 83,0 83,0 89,0 95,-6 95,-12 95,-12 95,-56 95,-56 95,-62 89,-68 83,-68\"/>\n<text text-anchor=\"start\" x=\"19.5\" y=\"-52.8\" font-family=\"Helvetica,sans-Serif\" font-size=\"14.00\">gini = 0.0</text>\n<text text-anchor=\"start\" x=\"10\" y=\"-37.8\" font-family=\"Helvetica,sans-Serif\" font-size=\"14.00\">samples = 1</text>\n<text text-anchor=\"start\" x=\"8\" y=\"-22.8\" font-family=\"Helvetica,sans-Serif\" font-size=\"14.00\">value = [1, 0]</text>\n<text text-anchor=\"start\" x=\"16.5\" y=\"-7.8\" font-family=\"Helvetica,sans-Serif\" font-size=\"14.00\">class = no</text>\n</g>\n<!-- 4&#45;&gt;5 -->\n<g id=\"edge5\" class=\"edge\">\n<title>4&#45;&gt;5</title>\n<path fill=\"none\" stroke=\"black\" d=\"M82.65,-103.73C78.26,-95.15 73.63,-86.09 69.21,-77.46\"/>\n<polygon fill=\"black\" stroke=\"black\" points=\"72.2,-75.61 64.53,-68.3 65.97,-78.8 72.2,-75.61\"/>\n</g>\n<!-- 6 -->\n<g id=\"node7\" class=\"node\">\n<title>6</title>\n<path fill=\"#399de5\" stroke=\"black\" d=\"M196,-68C196,-68 125,-68 125,-68 119,-68 113,-62 113,-56 113,-56 113,-12 113,-12 113,-6 119,0 125,0 125,0 196,0 196,0 202,0 208,-6 208,-12 208,-12 208,-56 208,-56 208,-62 202,-68 196,-68\"/>\n<text text-anchor=\"start\" x=\"132.5\" y=\"-52.8\" font-family=\"Helvetica,sans-Serif\" font-size=\"14.00\">gini = 0.0</text>\n<text text-anchor=\"start\" x=\"123\" y=\"-37.8\" font-family=\"Helvetica,sans-Serif\" font-size=\"14.00\">samples = 1</text>\n<text text-anchor=\"start\" x=\"121\" y=\"-22.8\" font-family=\"Helvetica,sans-Serif\" font-size=\"14.00\">value = [0, 1]</text>\n<text text-anchor=\"start\" x=\"126.5\" y=\"-7.8\" font-family=\"Helvetica,sans-Serif\" font-size=\"14.00\">class = yes</text>\n</g>\n<!-- 4&#45;&gt;6 -->\n<g id=\"edge6\" class=\"edge\">\n<title>4&#45;&gt;6</title>\n<path fill=\"none\" stroke=\"black\" d=\"M124.72,-103.73C129.24,-95.06 134.01,-85.9 138.54,-77.18\"/>\n<polygon fill=\"black\" stroke=\"black\" points=\"141.65,-78.79 143.17,-68.3 135.44,-75.55 141.65,-78.79\"/>\n</g>\n<!-- 9 -->\n<g id=\"node10\" class=\"node\">\n<title>9</title>\n<path fill=\"#e58139\" stroke=\"black\" d=\"M374,-179.5C374,-179.5 303,-179.5 303,-179.5 297,-179.5 291,-173.5 291,-167.5 291,-167.5 291,-123.5 291,-123.5 291,-117.5 297,-111.5 303,-111.5 303,-111.5 374,-111.5 374,-111.5 380,-111.5 386,-117.5 386,-123.5 386,-123.5 386,-167.5 386,-167.5 386,-173.5 380,-179.5 374,-179.5\"/>\n<text text-anchor=\"start\" x=\"310.5\" y=\"-164.3\" font-family=\"Helvetica,sans-Serif\" font-size=\"14.00\">gini = 0.0</text>\n<text text-anchor=\"start\" x=\"301\" y=\"-149.3\" font-family=\"Helvetica,sans-Serif\" font-size=\"14.00\">samples = 1</text>\n<text text-anchor=\"start\" x=\"299\" y=\"-134.3\" font-family=\"Helvetica,sans-Serif\" font-size=\"14.00\">value = [1, 0]</text>\n<text text-anchor=\"start\" x=\"307.5\" y=\"-119.3\" font-family=\"Helvetica,sans-Serif\" font-size=\"14.00\">class = no</text>\n</g>\n<!-- 8&#45;&gt;9 -->\n<g id=\"edge9\" class=\"edge\">\n<title>8&#45;&gt;9</title>\n<path fill=\"none\" stroke=\"black\" d=\"M340.46,-222.91C340.18,-212.2 339.89,-200.62 339.61,-189.78\"/>\n<polygon fill=\"black\" stroke=\"black\" points=\"343.11,-189.57 339.35,-179.67 336.11,-189.75 343.11,-189.57\"/>\n</g>\n<!-- 10 -->\n<g id=\"node11\" class=\"node\">\n<title>10</title>\n<path fill=\"#399de5\" stroke=\"black\" d=\"M487,-179.5C487,-179.5 416,-179.5 416,-179.5 410,-179.5 404,-173.5 404,-167.5 404,-167.5 404,-123.5 404,-123.5 404,-117.5 410,-111.5 416,-111.5 416,-111.5 487,-111.5 487,-111.5 493,-111.5 499,-117.5 499,-123.5 499,-123.5 499,-167.5 499,-167.5 499,-173.5 493,-179.5 487,-179.5\"/>\n<text text-anchor=\"start\" x=\"423.5\" y=\"-164.3\" font-family=\"Helvetica,sans-Serif\" font-size=\"14.00\">gini = 0.0</text>\n<text text-anchor=\"start\" x=\"414\" y=\"-149.3\" font-family=\"Helvetica,sans-Serif\" font-size=\"14.00\">samples = 2</text>\n<text text-anchor=\"start\" x=\"412\" y=\"-134.3\" font-family=\"Helvetica,sans-Serif\" font-size=\"14.00\">value = [0, 2]</text>\n<text text-anchor=\"start\" x=\"417.5\" y=\"-119.3\" font-family=\"Helvetica,sans-Serif\" font-size=\"14.00\">class = yes</text>\n</g>\n<!-- 8&#45;&gt;10 -->\n<g id=\"edge10\" class=\"edge\">\n<title>8&#45;&gt;10</title>\n<path fill=\"none\" stroke=\"black\" d=\"M379.66,-222.91C390.56,-211.32 402.43,-198.7 413.32,-187.11\"/>\n<polygon fill=\"black\" stroke=\"black\" points=\"416.02,-189.35 420.32,-179.67 410.92,-184.56 416.02,-189.35\"/>\n</g>\n</g>\n</svg>\n",
            "text/plain": [
              "<graphviz.sources.Source at 0x7fbbe3aa4790>"
            ]
          },
          "metadata": {},
          "execution_count": 22
        }
      ]
    },
    {
      "cell_type": "markdown",
      "source": [],
      "metadata": {
        "id": "EvfxsnAVluel"
      }
    }
  ]
}